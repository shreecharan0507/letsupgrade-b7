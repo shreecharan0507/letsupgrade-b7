{
 "cells": [
  {
   "cell_type": "code",
   "execution_count": 1,
   "metadata": {},
   "outputs": [],
   "source": [
    "#error handling"
   ]
  },
  {
   "cell_type": "code",
   "execution_count": 6,
   "metadata": {},
   "outputs": [
    {
     "name": "stdout",
     "output_type": "stream",
     "text": [
      "Enter your age: charan\n",
      "Only positive integers are allowed\n"
     ]
    }
   ],
   "source": [
    "def enterage(age):\n",
    "    if age < 0:\n",
    "        raise ValueError(\"Only positive integers are allowed\")\n",
    "\n",
    "    if age % 2 == 0:\n",
    "        print(\"age is even\")\n",
    "    else:\n",
    "        print(\"age is odd\")\n",
    "\n",
    "try:\n",
    "    num = int(input(\"Enter your age: \"))\n",
    "    enterage(num)\n",
    "\n",
    "except ValueError:\n",
    "    print(\"Only positive integers are allowed\")\n",
    "except:\n",
    "    print(\"something is wrong\")"
   ]
  },
  {
   "cell_type": "code",
   "execution_count": 4,
   "metadata": {},
   "outputs": [
    {
     "name": "stdout",
     "output_type": "stream",
     "text": [
      "Enter your age: 50\n",
      "age is even\n"
     ]
    }
   ],
   "source": [
    "def enterage(age):\n",
    "    if age < 0:\n",
    "        raise ValueError(\"Only positive integers are allowed\")\n",
    "\n",
    "    if age % 2 == 0:\n",
    "        print(\"age is even\")\n",
    "    else:\n",
    "        print(\"age is odd\")\n",
    "\n",
    "try:\n",
    "    num = int(input(\"Enter your age: \"))\n",
    "    enterage(num)\n",
    "\n",
    "except ValueError:\n",
    "    print(\"Only positive integers are allowed\")\n",
    "except:\n",
    "    print(\"something is wrong\")"
   ]
  },
  {
   "cell_type": "code",
   "execution_count": 5,
   "metadata": {},
   "outputs": [
    {
     "name": "stdout",
     "output_type": "stream",
     "text": [
      "Enter a number: 34\n",
      "The number entered is 34\n"
     ]
    }
   ],
   "source": [
    "try:\n",
    "    number = eval(input(\"Enter a number: \"))\n",
    "    print(\"The number entered is\", number)\n",
    "except NameError as ex:\n",
    "    print(\"Exception:\", ex)"
   ]
  },
  {
   "cell_type": "code",
   "execution_count": 7,
   "metadata": {},
   "outputs": [
    {
     "name": "stdout",
     "output_type": "stream",
     "text": [
      "Enter a number: one\n",
      "Exception: name 'one' is not defined\n"
     ]
    }
   ],
   "source": [
    "try:\n",
    "    number = eval(input(\"Enter a number: \"))\n",
    "    print(\"The number entered is\", number)\n",
    "except NameError as ex:\n",
    "    print(\"Exception:\", ex)"
   ]
  },
  {
   "cell_type": "code",
   "execution_count": 8,
   "metadata": {},
   "outputs": [],
   "source": [
    "#decorator function series "
   ]
  },
  {
   "cell_type": "code",
   "execution_count": 14,
   "metadata": {},
   "outputs": [
    {
     "name": "stdout",
     "output_type": "stream",
     "text": [
      "User Input :  36\n",
      "Yes, it's EVEN Number.\n",
      "User Input :  2\n",
      "Yes, it's EVEN Number.\n",
      "User Input :  7\n",
      "No, it's ODD Number.\n"
     ]
    }
   ],
   "source": [
    "class Check_no : \n",
    "    \n",
    "    # decorator function \n",
    "    def decor(func) :             \n",
    "        def check(self, no) : \n",
    "            func(self, no) \n",
    "            if no % 2 == 0 : \n",
    "                print('Yes, it\\'s EVEN Number.') \n",
    "            else : \n",
    "                print('No, it\\'s ODD Number.') \n",
    "        return check \n",
    "  \n",
    "    @decor\n",
    "      \n",
    "    #instance method \n",
    "    def is_even(self, no) :             \n",
    "        print('User Input : ', no) \n",
    "  \n",
    "obj = Check_no() \n",
    "obj.is_even(36) \n",
    "obj.is_even(2) \n",
    "obj.is_even(7)"
   ]
  },
  {
   "cell_type": "code",
   "execution_count": null,
   "metadata": {},
   "outputs": [],
   "source": []
  }
 ],
 "metadata": {
  "kernelspec": {
   "display_name": "Python 3",
   "language": "python",
   "name": "python3"
  },
  "language_info": {
   "codemirror_mode": {
    "name": "ipython",
    "version": 3
   },
   "file_extension": ".py",
   "mimetype": "text/x-python",
   "name": "python",
   "nbconvert_exporter": "python",
   "pygments_lexer": "ipython3",
   "version": "3.8.3"
  }
 },
 "nbformat": 4,
 "nbformat_minor": 4
}
